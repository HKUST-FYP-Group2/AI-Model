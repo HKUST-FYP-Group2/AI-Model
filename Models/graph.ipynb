{
 "cells": [
  {
   "cell_type": "code",
   "execution_count": 2,
   "metadata": {},
   "outputs": [],
   "source": [
    "import matplotlib.pyplot as plt\n",
    "import torch\n",
    "from CNN.CNN import SE_CNN\n",
    "from Transformer.Transformer import PerceiverIO\n",
    "import os\n",
    "from torchvision import transforms\n",
    "from PIL import Image\n",
    "%matplotlib inline"
   ]
  },
  {
   "cell_type": "code",
   "execution_count": 3,
   "metadata": {},
   "outputs": [],
   "source": [
    "device = torch.device(\"cuda\" if torch.cuda.is_available() else \"cpu\")"
   ]
  },
  {
   "cell_type": "code",
   "execution_count": 4,
   "metadata": {},
   "outputs": [
    {
     "name": "stdout",
     "output_type": "stream",
     "text": [
      "['2.pth', '4.pth', '8.pth', '12.pth', '16.pth', '20.pth', '24.pth', '28.pth', '32.pth', '36.pth', '40.pth', '44.pth']\n",
      "['4.pth', '8.pth', '12.pth', '16.pth', '20.pth', '24.pth', '28.pth', '32.pth', '36.pth', '40.pth', '44.pth', '48.pth', '52.pth', '56.pth', '60.pth', '64.pth', '68.pth', '72.pth', '76.pth', '80.pth', '84.pth', '88.pth', '92.pth', '96.pth', '100.pth']\n"
     ]
    }
   ],
   "source": [
    "CNN_snapshots = os.listdir(\"/home/hvgupta/FYP/AI-Model/TrainedWeights/CNN\")\n",
    "Transformer_snapshots = os.listdir(\"/home/hvgupta/FYP/AI-Model/TrainedWeights/Transformer\")\n",
    "CNN_snapshots.sort(key=lambda x: int(x.split(\".\")[0]))\n",
    "Transformer_snapshots.sort(key=lambda x: int(x.split(\".\")[0]))\n",
    "\n",
    "print(CNN_snapshots)\n",
    "print(Transformer_snapshots)\n",
    "\n",
    "model_CNN = SE_CNN(3,64,\n",
    "                64, 8).to(device)\n",
    "model_Transformer = PerceiverIO(128, \n",
    "                    256, \n",
    "                    8, 32, 16,\n",
    "                    512).to(device)"
   ]
  },
  {
   "cell_type": "code",
   "execution_count": 5,
   "metadata": {},
   "outputs": [],
   "source": [
    "transformer = transforms.Compose([\n",
    "    transforms.Resize((256, 256)),\n",
    "    transforms.ToTensor(),\n",
    "    transforms.Normalize([0.5, 0.5, 0.5], [0.5, 0.5, 0.5]),\n",
    "    transforms.Lambda(lambda x: x.to(device))\n",
    "])\n",
    "TEST_imagesPath = \"../TestImages\" "
   ]
  },
  {
   "cell_type": "code",
   "execution_count": 6,
   "metadata": {},
   "outputs": [
    {
     "data": {
      "text/plain": [
       "['img2.jpg', 'img1.jpg']"
      ]
     },
     "execution_count": 6,
     "metadata": {},
     "output_type": "execute_result"
    }
   ],
   "source": [
    "os.listdir(TEST_imagesPath)"
   ]
  },
  {
   "cell_type": "code",
   "execution_count": null,
   "metadata": {},
   "outputs": [
    {
     "name": "stdout",
     "output_type": "stream",
     "text": [
      "Image : img2.jpg\n",
      " CNN file 2.pth : ['278.91', '67.47', '3.51', '63.59', '10283.41', '27.58', '2.37', '0.68']\n",
      " CNN file 4.pth : ['361.49', '74.03', '4.67', '74.83', '11225.38', '-4.59', '2.61', '1.43']\n",
      " CNN file 8.pth : ['299.36', '64.42', '4.69', '68.68', '10106.18', '20.90', '1.64', '-3.28']\n",
      " CNN file 12.pth : ['288.69', '51.63', '2.08', '65.58', '9213.28', '-5.30', '1.99', '0.72']\n",
      " CNN file 16.pth : ['302.34', '58.53', '2.70', '42.48', '9973.50', '1.83', '-0.60', '-1.41']\n",
      " CNN file 20.pth : ['291.28', '58.88', '5.89', '61.49', '9724.70', '4.21', '4.11', '-3.78']\n",
      " CNN file 24.pth : ['250.93', '51.90', '3.23', '43.81', '9944.50', '12.14', '0.12', '5.23']\n",
      " CNN file 28.pth : ['230.76', '51.58', '2.33', '43.48', '8624.56', '4.96', '-0.78', '-2.42']\n",
      " CNN file 32.pth : ['308.28', '63.77', '5.38', '73.42', '9839.58', '0.31', '-1.50', '0.39']\n",
      " CNN file 36.pth : ['287.89', '52.13', '4.66', '47.29', '9158.83', '-2.58', '-0.16', '2.47']\n",
      " CNN file 40.pth : ['248.40', '66.32', '2.19', '41.61', '8893.17', '2.37', '-0.41', '2.48']\n",
      " CNN file 44.pth : ['249.81', '70.29', '5.02', '41.39', '9299.79', '4.76', '-0.73', '-4.36']\n",
      " Transformer file 4.pth : ['2146.74', '1252.01', '2146.10', '2146.69', '2146.62', '1252.03', '1252.02', '1252.07']\n",
      " Transformer file 8.pth : ['138.54', '174.58', '138.54', '1861.18', '1859.52', '1861.08', '1861.09', '138.54']\n",
      " Transformer file 12.pth : ['550.00', '550.42', '550.35', '4624.92', '4624.76', '4624.70', '4622.92', '4624.59']\n",
      " Transformer file 16.pth : ['543.91', '707.40', '707.36', '3590.61', '3590.70', '3590.59', '3590.69', '-399.09']\n",
      " Transformer file 20.pth : ['3857.97', '5928.56', '123.08', '3888.90', '3888.91', '3888.91', '3888.90', '-325.54']\n",
      " Transformer file 24.pth : ['2014.05', '788.46', '2012.96', '2014.05', '2014.05', '2014.06', '2014.06', '622.41']\n",
      " Transformer file 28.pth : ['1665.55', '335.07', '1665.55', '1665.55', '1665.55', '1665.58', '1665.56', '940.00']\n",
      " Transformer file 32.pth : ['2254.47', '784.39', '2254.46', '2254.48', '2254.47', '2254.52', '2254.50', '2254.55']\n",
      " Transformer file 36.pth : ['6090.06', '577.87', '6090.05', '6090.05', '6090.05', '577.87', '6090.06', '6090.05']\n",
      " Transformer file 40.pth : ['3350.13', '343.13', '5942.61', '6024.45', '5903.04', '343.09', '342.19', '6024.45']\n",
      " Transformer file 44.pth : ['6779.55', '191.09', '6779.55', '6779.55', '6307.45', '210.53', '195.93', '6131.42']\n",
      " Transformer file 48.pth : ['6592.23', '75.51', '6634.01', '6634.01', '5570.15', '75.51', '-1614.58', '6634.01']\n",
      " Transformer file 52.pth : ['1607.52', '1527.93', '1607.52', '1607.52', '441.29', '1514.82', '1607.51', '1607.52']\n",
      " Transformer file 56.pth : ['3739.24', '1839.28', '3739.24', '3739.24', '1920.84', '1839.29', '3726.88', '3739.24']\n",
      " Transformer file 60.pth : ['2213.72', '1041.34', '2213.72', '1886.78', '1744.55', '937.94', '1886.44', '1886.78']\n",
      " Transformer file 64.pth : ['1433.28', '241.56', '4914.76', '4914.77', '4914.76', '242.20', '1184.25', '4914.77']\n",
      " Transformer file 68.pth : ['1180.85', '686.22', '1172.34', '1225.41', '1225.41', '676.13', '1180.85', '1225.41']\n",
      " Transformer file 72.pth : ['3143.80', '62.06', '3557.74', '3178.70', '3245.92', '400.52', '3143.80', '3338.16']\n",
      " Transformer file 76.pth : ['5950.63', '122.20', '6636.63', '6636.63', '6649.66', '121.89', '6152.68', '6637.18']\n",
      " Transformer file 80.pth : ['3883.73', '331.95', '4712.31', '4713.99', '4715.30', '330.87', '3881.55', '4713.99']\n",
      " Transformer file 84.pth : ['883.32', '1771.94', '1748.71', '1748.71', '1087.52', '1771.94', '1748.73', '1748.71']\n",
      " Transformer file 88.pth : ['2807.82', '1631.25', '2668.88', '3123.14', '2950.72', '1615.88', '3123.14', '3511.70']\n",
      " Transformer file 92.pth : ['2540.38', '1699.79', '2821.12', '2222.79', '1775.08', '2034.93', '884.18', '979.07']\n",
      " Transformer file 96.pth : ['2009.24', '1328.01', '957.93', '951.35', '2928.14', '1161.50', '951.35', '1474.36']\n",
      " Transformer file 100.pth : ['968.54', '886.65', '962.24', '1659.67', '577.37', '830.06', '1272.20', '1039.84']\n",
      "Image : img1.jpg\n",
      " CNN file 2.pth : ['237.64', '57.59', '2.92', '53.41', '8726.60', '24.06', '1.17', '-0.14']\n",
      " CNN file 4.pth : ['344.34', '71.12', '5.72', '70.62', '10641.28', '0.99', '2.46', '1.88']\n",
      " CNN file 8.pth : ['248.57', '56.57', '3.15', '62.68', '8038.85', '17.28', '-3.41', '-1.76']\n",
      " CNN file 12.pth : ['357.78', '62.38', '2.26', '78.12', '11744.85', '-11.77', '4.83', '-2.34']\n",
      " CNN file 16.pth : ['357.10', '69.42', '3.41', '44.83', '12013.78', '-1.40', '1.30', '-4.16']\n",
      " CNN file 20.pth : ['188.29', '48.55', '2.90', '50.04', '5886.31', '0.42', '-4.10', '-0.95']\n",
      " CNN file 24.pth : ['192.27', '48.67', '3.76', '39.98', '7522.65', '9.19', '-0.55', '6.05']\n",
      " CNN file 28.pth : ['124.08', '37.74', '2.25', '31.30', '4290.06', '4.57', '-3.35', '1.46']\n",
      " CNN file 32.pth : ['227.36', '56.63', '4.22', '58.67', '6903.54', '3.22', '-3.81', '1.09']\n",
      " CNN file 36.pth : ['161.48', '41.18', '2.82', '35.97', '4668.71', '2.52', '-4.29', '3.45']\n",
      " CNN file 40.pth : ['150.45', '50.71', '1.07', '34.96', '4680.90', '6.04', '-5.19', '2.79']\n",
      " CNN file 44.pth : ['171.43', '58.99', '2.69', '38.00', '5618.08', '7.41', '-4.82', '-1.95']\n",
      " Transformer file 4.pth : ['528.88', '528.86', '528.87', '528.88', '528.78', '528.84', '528.76', '527.73']\n",
      " Transformer file 8.pth : ['653.86', '653.86', '654.08', '653.85', '505.20', '653.86', '654.38', '653.90']\n",
      " Transformer file 12.pth : ['1581.72', '1581.69', '1581.72', '1581.74', '903.07', '1581.73', '1581.54', '1581.73']\n",
      " Transformer file 16.pth : ['784.46', '784.46', '784.46', '784.47', '1479.94', '784.46', '784.46', '784.46']\n",
      " Transformer file 20.pth : ['2184.67', '2184.67', '2184.67', '2184.67', '420.97', '2184.67', '2184.67', '2184.67']\n",
      " Transformer file 24.pth : ['894.77', '894.77', '894.77', '894.77', '4562.54', '894.77', '894.77', '894.77']\n",
      " Transformer file 28.pth : ['-94.58', '-94.58', '-94.58', '-94.58', '6679.30', '-94.58', '-94.58', '-94.58']\n",
      " Transformer file 32.pth : ['696.67', '696.67', '696.67', '696.67', '6239.12', '696.67', '696.67', '696.67']\n",
      " Transformer file 36.pth : ['4196.48', '4196.48', '4196.48', '4196.48', '1469.28', '4196.48', '4196.48', '4196.48']\n",
      " Transformer file 40.pth : ['3257.84', '3257.85', '3257.84', '3257.84', '648.47', '3257.85', '3257.85', '3257.84']\n",
      " Transformer file 44.pth : ['5924.06', '5911.47', '5924.06', '5924.06', '260.81', '5911.47', '5911.47', '5924.06']\n",
      " Transformer file 48.pth : ['4743.66', '4743.67', '4743.66', '4743.66', '173.49', '4743.66', '4767.45', '4743.66']\n",
      " Transformer file 52.pth : ['-222.61', '-222.61', '-222.61', '-222.61', '2399.12', '-222.62', '-222.61', '-222.61']\n",
      " Transformer file 56.pth : ['921.93', '921.93', '921.93', '921.93', '3313.84', '770.24', '770.66', '921.93']\n",
      " Transformer file 60.pth : ['4020.71', '4044.69', '4038.06', '4020.75', '205.38', '4044.70', '4044.69', '4084.15']\n",
      " Transformer file 64.pth : ['4526.28', '4526.28', '4526.28', '4526.28', '269.08', '-165.98', '4526.27', '4526.28']\n",
      " Transformer file 68.pth : ['-48.20', '-48.20', '-48.20', '-48.35', '2601.69', '-53.30', '-48.20', '-48.20']\n",
      " Transformer file 72.pth : ['1510.88', '1510.88', '1510.88', '1510.88', '654.85', '1535.02', '1572.98', '1510.88']\n",
      " Transformer file 76.pth : ['6881.08', '6881.08', '6881.08', '6881.08', '236.80', '6881.08', '6881.08', '6881.08']\n",
      " Transformer file 80.pth : ['5431.58', '5431.58', '5431.58', '5431.58', '362.18', '2250.28', '5431.58', '5431.58']\n",
      " Transformer file 84.pth : ['752.95', '752.96', '752.96', '752.95', '5082.67', '-256.76', '752.96', '752.95']\n",
      " Transformer file 88.pth : ['1099.33', '1099.37', '1099.36', '1099.32', '4640.82', '1099.37', '1099.34', '1099.37']\n",
      " Transformer file 92.pth : ['1224.19', '1222.07', '1224.19', '1224.19', '3116.89', '1224.19', '1224.19', '1224.19']\n",
      " Transformer file 96.pth : ['1031.13', '1036.68', '1031.13', '1031.13', '3163.08', '944.53', '1031.13', '1036.69']\n",
      " Transformer file 100.pth : ['-1143.55', '-1143.55', '-1143.55', '-1143.55', '6164.29', '-1143.55', '-1143.55', '-1143.55']\n"
     ]
    },
    {
     "data": {
      "text/plain": [
       "[<matplotlib.lines.Line2D at 0x7f55de0e33d0>]"
      ]
     },
     "execution_count": 7,
     "metadata": {},
     "output_type": "execute_result"
    },
    {
     "data": {
      "image/png": "[encoded data removed]",
      "text/plain": [
       "<Figure size 640x480 with 1 Axes>"
      ]
     },
     "metadata": {},
     "output_type": "display_data"
    }
   ],
   "source": [
    "CNN_acc = []\n",
    "Transformer_acc = []\n",
    "\n",
    "for img in os.listdir(TEST_imagesPath):\n",
    "    print(f\"Image : {img}\")\n",
    "    image = Image.open(os.path.join(TEST_imagesPath, img))\n",
    "    image = transformer(image).unsqueeze(0)\n",
    "    for snapshot in CNN_snapshots:\n",
    "        model_CNN.load_state_dict(torch.load(os.path.join(\"/home/hvgupta/FYP/AI-Model/TrainedWeights/CNN\", snapshot)))\n",
    "        model_CNN.eval()\n",
    "        with torch.no_grad():\n",
    "            output = model_CNN(image)\n",
    "            outputList = [f\"{x:.2f}\" for x in output.detach().cpu().numpy().flatten()]\n",
    "            print(f\" CNN file {snapshot} : {outputList}\")\n",
    "    for snapshot in Transformer_snapshots:\n",
    "        model_Transformer.load_state_dict(torch.load(os.path.join(\"/home/hvgupta/FYP/AI-Model/TrainedWeights/Transformer\", snapshot)))\n",
    "        model_Transformer.eval()\n",
    "        with torch.no_grad():\n",
    "            output = model_Transformer(image)\n",
    "            outputList = [f\"{x:.2f}\" for x in output.detach().cpu().numpy().flatten()]\n",
    "            print(f\" Transformer file {snapshot} : {outputList}\")\n",
    "\n",
    "# plt.plot(CNN_acc, label=\"CNN\")\n",
    "# plt.plot(Transformer_acc, label=\"Transformer\")\n"
   ]
  }
 ],
 "metadata": {
  "kernelspec": {
   "display_name": ".venv",
   "language": "python",
   "name": "python3"
  },
  "language_info": {
   "codemirror_mode": {
    "name": "ipython",
    "version": 3
   },
   "file_extension": ".py",
   "mimetype": "text/x-python",
   "name": "python",
   "nbconvert_exporter": "python",
   "pygments_lexer": "ipython3",
   "version": "3.11.8"
  }
 },
 "nbformat": 4,
 "nbformat_minor": 2
}
