{
 "cells": [
  {
   "cell_type": "code",
   "execution_count": 1,
   "metadata": {},
   "outputs": [],
   "source": [
    "import torch\n",
    "from Models import SE_CNN\n",
    "from torch.utils.data import DataLoader\n",
    "from torchvision import datasets, transforms\n",
    "\n",
    "device = torch.device(\"cuda\" if torch.cuda.is_available() else \"cpu\")"
   ]
  },
  {
   "cell_type": "code",
   "execution_count": 2,
   "metadata": {},
   "outputs": [],
   "source": [
    "transformer = transforms.Compose([\n",
    "    transforms.Resize((256, 256)),\n",
    "    transforms.ToTensor(),\n",
    "    transforms.Normalize([0.5, 0.5, 0.5], [0.5, 0.5, 0.5]),\n",
    "    transforms.Lambda(lambda x: x.to(device))\n",
    "])"
   ]
  },
  {
   "cell_type": "code",
   "execution_count": 30,
   "metadata": {},
   "outputs": [
    {
     "data": {
      "text/plain": [
       "<All keys matched successfully>"
      ]
     },
     "execution_count": 30,
     "metadata": {},
     "output_type": "execute_result"
    }
   ],
   "source": [
    "model = SE_CNN(3,64,\n",
    "                64, 625).to(device)\n",
    "\n",
    "model.load_state_dict(torch.load(\"TrainedWeights/CNN/24_1.pth\"))"
   ]
  },
  {
   "cell_type": "code",
   "execution_count": 37,
   "metadata": {},
   "outputs": [],
   "source": [
    "from PIL import Image\n",
    "\n",
    "img = Image.open(\"/home/hvgupta/FYP/video1_img1.jpg\")\n",
    "img1_tensor = transformer(img).unsqueeze(0)"
   ]
  },
  {
   "cell_type": "code",
   "execution_count": 38,
   "metadata": {},
   "outputs": [
    {
     "name": "stdout",
     "output_type": "stream",
     "text": [
      "tensor([226], device='cuda:0')\n"
     ]
    }
   ],
   "source": [
    "model.eval()\n",
    "with torch.no_grad():\n",
    "    output = model(img1_tensor)\n",
    "    print(output.argmax(1))"
   ]
  },
  {
   "cell_type": "code",
   "execution_count": 39,
   "metadata": {},
   "outputs": [
    {
     "name": "stdout",
     "output_type": "stream",
     "text": [
      "1401\n"
     ]
    }
   ],
   "source": [
    "def decimal_to_pentanary(decimal_number):\n",
    "    if decimal_number == 0:\n",
    "        return \"0\"\n",
    "    \n",
    "    pentanary_number = \"\"\n",
    "    while decimal_number > 0:\n",
    "        remainder = decimal_number % 5\n",
    "        pentanary_number = str(remainder) + pentanary_number\n",
    "        decimal_number //= 5\n",
    "    \n",
    "    return pentanary_number\n",
    "\n",
    "print(decimal_to_pentanary(output.argmax(1).item()))"
   ]
  },
  {
   "cell_type": "code",
   "execution_count": 37,
   "metadata": {},
   "outputs": [],
   "source": [
    "from pydantic import BaseModel, Field, field_validator  \n"
   ]
  },
  {
   "cell_type": "code",
   "execution_count": 4,
   "metadata": {},
   "outputs": [
    {
     "name": "stdout",
     "output_type": "stream",
     "text": [
      "50\n"
     ]
    }
   ],
   "source": [
    "class validatorClass(BaseModel):\n",
    "    number: int = Field(gt=0, lt=100)\n",
    "    item_dict: dict = Field(default_factory=dict)\n",
    "    \n",
    "    \n",
    "json_data = {\n",
    "    \"number\": 50,\n",
    "    \"item_dict\": {\n",
    "        \"item1\": 1,\n",
    "        \"item2\": 2\n",
    "    }\n",
    "}\n",
    "\n",
    "validator = validatorClass(**json_data)\n",
    "print(validator.number)"
   ]
  },
  {
   "cell_type": "code",
   "execution_count": 4,
   "metadata": {},
   "outputs": [
    {
     "data": {
      "text/plain": [
       "<All keys matched successfully>"
      ]
     },
     "execution_count": 4,
     "metadata": {},
     "output_type": "execute_result"
    }
   ],
   "source": [
    "import torch\n",
    "from Models import SE_CNN\n",
    "device = torch.device(\"cuda\" if torch.cuda.is_available() else \"cpu\")\n",
    "\n",
    "deployModel = SE_CNN(3,64,\n",
    "                64, 625).to(device)\n",
    "\n",
    "deployModel.load_state_dict(torch.load(\"TrainedWeights/CNN/24_1.pth\"))"
   ]
  },
  {
   "cell_type": "code",
   "execution_count": null,
   "metadata": {},
   "outputs": [
    {
     "ename": "AttributeError",
     "evalue": "module 'onnx' has no attribute 'export'",
     "output_type": "error",
     "traceback": [
      "\u001b[0;31m---------------------------------------------------------------------------\u001b[0m",
      "\u001b[0;31mAttributeError\u001b[0m                            Traceback (most recent call last)",
      "Cell \u001b[0;32mIn[5], line 10\u001b[0m\n\u001b[1;32m      7\u001b[0m dummy_input \u001b[38;5;241m=\u001b[39m torch\u001b[38;5;241m.\u001b[39mrandn(\u001b[38;5;241m1\u001b[39m, \u001b[38;5;241m3\u001b[39m, \u001b[38;5;241m256\u001b[39m, \u001b[38;5;241m256\u001b[39m)  \u001b[38;5;66;03m# Adjust shape as needed\u001b[39;00m\n\u001b[1;32m      9\u001b[0m \u001b[38;5;66;03m# Export the model to ONNX\u001b[39;00m\n\u001b[0;32m---> 10\u001b[0m \u001b[43monnx\u001b[49m\u001b[38;5;241;43m.\u001b[39;49m\u001b[43mexport\u001b[49m(deployModel, dummy_input, \u001b[38;5;124m\"\u001b[39m\u001b[38;5;124mdeployeModel.onnx\u001b[39m\u001b[38;5;124m\"\u001b[39m, export_params\u001b[38;5;241m=\u001b[39m\u001b[38;5;28;01mTrue\u001b[39;00m, opset_version\u001b[38;5;241m=\u001b[39m\u001b[38;5;241m11\u001b[39m, input_names\u001b[38;5;241m=\u001b[39m[\u001b[38;5;124m\"\u001b[39m\u001b[38;5;124minput\u001b[39m\u001b[38;5;124m\"\u001b[39m], output_names\u001b[38;5;241m=\u001b[39m[\u001b[38;5;124m\"\u001b[39m\u001b[38;5;124moutput\u001b[39m\u001b[38;5;124m\"\u001b[39m])\n",
      "\u001b[0;31mAttributeError\u001b[0m: module 'onnx' has no attribute 'export'"
     ]
    }
   ],
   "source": [
    "import torch\n",
    "\n",
    "deployModel.eval()\n",
    "\n",
    "# Dummy input matching your model's expected input shape\n",
    "dummy_input = torch.randn(1, 3, 256, 256)  # Adjust shape as needed\n",
    "\n",
    "# Export the model to ONNX\n",
    "torch.onnx.export(deployModel, dummy_input, \"deployeModel.onnx\", export_params=True, opset_version=11, input_names=[\"input\"], output_names=[\"output\"])\n"
   ]
  }
 ],
 "metadata": {
  "kernelspec": {
   "display_name": ".venv",
   "language": "python",
   "name": "python3"
  },
  "language_info": {
   "codemirror_mode": {
    "name": "ipython",
    "version": 3
   },
   "file_extension": ".py",
   "mimetype": "text/x-python",
   "name": "python",
   "nbconvert_exporter": "python",
   "pygments_lexer": "ipython3",
   "version": "3.11.8"
  }
 },
 "nbformat": 4,
 "nbformat_minor": 2
}
